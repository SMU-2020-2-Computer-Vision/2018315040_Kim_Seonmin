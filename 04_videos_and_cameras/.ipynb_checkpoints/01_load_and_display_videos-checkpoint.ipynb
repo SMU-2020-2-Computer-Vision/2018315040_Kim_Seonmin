{
 "cells": [
  {
   "cell_type": "code",
   "execution_count": null,
   "metadata": {},
   "outputs": [],
   "source": [
    "import cv2\n",
    "import os\n",
    "\n",
    "# Get the path to the current file\n",
    "cwd = os.path.dirname(os.path.abspath(\"__file__\"))\n",
    "\n",
    "# Change the working directory\n",
    "os.chdir(cwd)\n",
    "\n",
    "# Create a video capture object\n",
    "video_name = 'vtest.avi'\n",
    "capture = cv2.VideoCapture(video_name)\n",
    "\n",
    "while True:\n",
    "    # Read a video frame\n",
    "    ret, frame = capture.read()\n",
    "\n",
    "    # Quit\n",
    "    if ret is False: break\n",
    "\n",
    "    # Show the current frame\n",
    "    cv2.imshow(\"Video Frame\", frame)\n",
    "    key = cv2.waitKey(1) #1ms마다 보여줌\n",
    "\n",
    "# Release the capture object\n",
    "capture.release()\n",
    "\n",
    "# Destroy all windows\n",
    "cv2.destroyAllWindows()\n"
   ]
  }
 ],
 "metadata": {
  "kernelspec": {
   "display_name": "Python 3",
   "language": "python",
   "name": "python3"
  },
  "language_info": {
   "codemirror_mode": {
    "name": "ipython",
    "version": 3
   },
   "file_extension": ".py",
   "mimetype": "text/x-python",
   "name": "python",
   "nbconvert_exporter": "python",
   "pygments_lexer": "ipython3",
   "version": "3.8.3"
  }
 },
 "nbformat": 4,
 "nbformat_minor": 4
}
