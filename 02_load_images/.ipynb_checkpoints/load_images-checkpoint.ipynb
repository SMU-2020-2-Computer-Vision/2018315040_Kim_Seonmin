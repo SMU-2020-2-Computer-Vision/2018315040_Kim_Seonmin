{
 "cells": [
  {
   "cell_type": "code",
   "execution_count": 1,
   "metadata": {},
   "outputs": [
    {
     "data": {
      "text/plain": [
       "-1"
      ]
     },
     "execution_count": 1,
     "metadata": {},
     "output_type": "execute_result"
    }
   ],
   "source": [
    "import cv2\n",
    "import os\n",
    "\n",
    "# Get the path to the current file\n",
    "cwd = os.path.dirname(os.path.abspath(\"__file__\"))\n",
    "\n",
    "# Change the working directory\n",
    "os.chdir(cwd)\n",
    "\n",
    "# Load an image\n",
    "img = cv2.imread('HappyFish.jpg')\n",
    "\n",
    "# Display the image in a window\n",
    "cv2.imshow('image', img)\n",
    "\n",
    "# Wait for a key to be pressed\n",
    "cv2.waitKey(0)\n",
    "\n",
    "# Destroy all windows"
   ]
  },
  {
   "cell_type": "code",
   "execution_count": null,
   "metadata": {},
   "outputs": [],
   "source": []
  }
 ],
 "metadata": {
  "kernelspec": {
   "display_name": "Python 3",
   "language": "python",
   "name": "python3"
  },
  "language_info": {
   "codemirror_mode": {
    "name": "ipython",
    "version": 3
   },
   "file_extension": ".py",
   "mimetype": "text/x-python",
   "name": "python",
   "nbconvert_exporter": "python",
   "pygments_lexer": "ipython3",
   "version": "3.7.6"
  }
 },
 "nbformat": 4,
 "nbformat_minor": 4
}
